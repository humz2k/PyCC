{
 "cells": [
  {
   "cell_type": "code",
   "execution_count": 1,
   "metadata": {},
   "outputs": [],
   "source": [
    "import PyCC\n",
    "import numpy as np\n",
    "import matplotlib.pyplot as plt\n",
    "\n",
    "def plot_pretty(dpi=200,fontsize=10):\n",
    "    plt.rcParams['figure.dpi']= dpi\n",
    "    plt.rc(\"savefig\", dpi=dpi)\n",
    "    plt.rc('font', size=fontsize)\n",
    "    plt.rc('xtick', direction='in')\n",
    "    plt.rc('ytick', direction='in')\n",
    "    plt.rc('xtick.major', pad=5)\n",
    "    plt.rc('xtick.minor', pad=5)\n",
    "    plt.rc('ytick.major', pad=5)\n",
    "    plt.rc('ytick.minor', pad=5)\n",
    "    plt.rc('lines', dotted_pattern = [2., 2.])\n",
    "    plt.rc('legend',fontsize=5)\n",
    "    plt.rcParams['figure.figsize'] = [5, 3]\n",
    "\n",
    "plot_pretty()"
   ]
  },
  {
   "cell_type": "code",
   "execution_count": 2,
   "metadata": {},
   "outputs": [],
   "source": [
    "n = 100\n",
    "G = 1\n",
    "eps = 0\n",
    "a = 1\n",
    "M = 1\n",
    "nsteps = 1000\n",
    "atol = 1e-3\n",
    "\n",
    "df = PyCC.Distributions.Plummer(n,a,M,G)\n",
    "particle_mass = df.loc[:,\"mass\"][0]\n",
    "\n",
    "runs = {\"f8\":{},\"f4\":{},\"f4gpu\":{}}"
   ]
  },
  {
   "cell_type": "code",
   "execution_count": 3,
   "metadata": {},
   "outputs": [
    {
     "name": "stdout",
     "output_type": "stream",
     "text": [
      "f8 False\n",
      "dt = 0.015625 tol = 2.165366984149819e-06\n",
      "f4 False\n",
      "dt = 0.015625 tol = 2.1755695e-06\n",
      "f4 True\n",
      "dt = 0.015625 tol = 2.168119e-06\n"
     ]
    }
   ],
   "source": [
    "for precision in runs.keys():\n",
    "    accelerate = False\n",
    "    if \"gpu\" in precision:\n",
    "        accelerate = True\n",
    "\n",
    "    print(precision[:2],accelerate)\n",
    "\n",
    "    dt,tol = PyCC.find_timestep(df,1/64,atol=atol,eps=0,G=1,precision=precision[:2],accelerate=accelerate)\n",
    "    print(\"dt =\",dt,\"tol =\",tol)\n",
    "    runs[precision][\"dt\"] = dt\n",
    "    runs[precision][\"tol\"] = tol"
   ]
  },
  {
   "cell_type": "code",
   "execution_count": 4,
   "metadata": {},
   "outputs": [
    {
     "name": "stdout",
     "output_type": "stream",
     "text": [
      "f8 False\n",
      "f4 False\n",
      "f4gpu True\n"
     ]
    }
   ],
   "source": [
    "for precision in runs.keys():\n",
    "    accelerate = False\n",
    "    if \"gpu\" in precision:\n",
    "        accelerate = True\n",
    "    print(precision,accelerate)\n",
    "    out,stats = PyCC.evaluate(df,steps=nsteps,eps=eps,G=G,dt = runs[precision][\"dt\"],precision=precision[:2],accelerate=accelerate)\n",
    "    runs[precision][\"out\"] = PyCC.outdf2numpy(out)\n",
    "    "
   ]
  },
  {
   "cell_type": "code",
   "execution_count": 5,
   "metadata": {},
   "outputs": [],
   "source": [
    "for precision in runs.keys():\n",
    "    vel = runs[precision][\"out\"][\"vel\"]\n",
    "    gpe = runs[precision][\"out\"][\"gpe\"]\n",
    "\n",
    "    speeds = np.linalg.norm(vel,axis=2)\n",
    "    kes = (0.5) * particle_mass * (speeds**2)\n",
    "    ke_tot = np.sum(kes,axis=1)\n",
    "\n",
    "    gpe_tot = np.sum(gpe,axis=1).flatten()/2\n",
    "\n",
    "    runs[precision][\"ke\"] = ke_tot\n",
    "    runs[precision][\"gpe\"] = gpe_tot\n",
    "    runs[precision][\"e_tot\"] = ke_tot + gpe_tot"
   ]
  },
  {
   "cell_type": "code",
   "execution_count": 6,
   "metadata": {},
   "outputs": [
    {
     "data": {
      "image/png": "[encoded data removed]",
      "text/plain": [
       "<Figure size 432x288 with 1 Axes>"
      ]
     },
     "metadata": {
      "needs_background": "light"
     },
     "output_type": "display_data"
    }
   ],
   "source": [
    "for precision in runs.keys():\n",
    "    plt.plot((runs[precision][\"e_tot\"]),label=precision,alpha=0.5,linewidth=1)\n",
    "\n",
    "plt.legend()\n",
    "plt.show()"
   ]
  },
  {
   "cell_type": "code",
   "execution_count": 7,
   "metadata": {},
   "outputs": [
    {
     "data": {
      "image/png": "[encoded data removed]",
      "text/plain": [
       "<Figure size 432x288 with 1 Axes>"
      ]
     },
     "metadata": {
      "needs_background": "light"
     },
     "output_type": "display_data"
    }
   ],
   "source": [
    "\n",
    "plt.plot((runs[\"f8\"][\"e_tot\"] - runs[\"f4\"][\"e_tot\"]),label=\"f4\",alpha=0.5)\n",
    "plt.plot((runs[\"f8\"][\"e_tot\"] - runs[\"f4gpu\"][\"e_tot\"]),label=\"f4gpu\",alpha=0.5)\n",
    "\n",
    "\n",
    "plt.legend()\n",
    "plt.show()"
   ]
  },
  {
   "cell_type": "code",
   "execution_count": null,
   "metadata": {},
   "outputs": [],
   "source": []
  }
 ],
 "metadata": {
  "kernelspec": {
   "display_name": "Python 3.9.2 64-bit",
   "language": "python",
   "name": "python3"
  },
  "language_info": {
   "codemirror_mode": {
    "name": "ipython",
    "version": 3
   },
   "file_extension": ".py",
   "mimetype": "text/x-python",
   "name": "python",
   "nbconvert_exporter": "python",
   "pygments_lexer": "ipython3",
   "version": "3.9.2"
  },
  "orig_nbformat": 4,
  "vscode": {
   "interpreter": {
    "hash": "aee8b7b246df8f9039afb4144a1f6fd8d2ca17a180786b69acc140d282b71a49"
   }
  }
 },
 "nbformat": 4,
 "nbformat_minor": 2
}
