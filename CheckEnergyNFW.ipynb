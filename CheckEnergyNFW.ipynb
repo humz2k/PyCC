{
 "cells": [
  {
   "cell_type": "code",
   "execution_count": 1,
   "metadata": {},
   "outputs": [],
   "source": [
    "import PyCC\n",
    "import numpy as np\n",
    "import matplotlib.pyplot as plt\n",
    "\n",
    "def plot_pretty(dpi=200,fontsize=10):\n",
    "    plt.rcParams['figure.dpi']= dpi\n",
    "    plt.rc(\"savefig\", dpi=dpi)\n",
    "    plt.rc('font', size=fontsize)\n",
    "    plt.rc('xtick', direction='in')\n",
    "    plt.rc('ytick', direction='in')\n",
    "    plt.rc('xtick.major', pad=5)\n",
    "    plt.rc('xtick.minor', pad=5)\n",
    "    plt.rc('ytick.major', pad=5)\n",
    "    plt.rc('ytick.minor', pad=5)\n",
    "    plt.rc('lines', dotted_pattern = [2., 2.])\n",
    "    plt.rc('legend',fontsize=5)\n",
    "    plt.rcParams['figure.figsize'] = [5, 3]\n",
    "\n",
    "plot_pretty()"
   ]
  },
  {
   "cell_type": "code",
   "execution_count": 2,
   "metadata": {},
   "outputs": [],
   "source": [
    "n = 1000000\n",
    "G = 1\n",
    "rs = 1\n",
    "c = 1\n",
    "ps = 1\n",
    "Rvir = c*rs\n",
    "nsteps = 20\n",
    "atol = 1e-3\n",
    "\n",
    "df = PyCC.Distributions.NFW(n,rs,ps,c,100,1)\n",
    "particle_mass = df.loc[:,\"mass\"][0]"
   ]
  },
  {
   "cell_type": "code",
   "execution_count": 3,
   "metadata": {},
   "outputs": [],
   "source": [
    "#dt,tol = PyCC.find_timestep(df,1e-5,atol=atol,eps=0,G=1,precision=\"f4\",accelerate=True)\n",
    "#print(\"dt =\",dt,\"tol =\",tol)\n",
    "dt = 1e-5"
   ]
  },
  {
   "cell_type": "code",
   "execution_count": 4,
   "metadata": {},
   "outputs": [
    {
     "name": "stdout",
     "output_type": "stream",
     "text": [
      "{'eval_time': 435.829080459}\n"
     ]
    }
   ],
   "source": [
    "outdf,stats = PyCC.evaluate(df,nsteps,0,1,dt,precision=\"f4\",accelerate=True)\n",
    "print(stats)\n",
    "\n",
    "out = PyCC.outdf2numpy(outdf)\n",
    "\n",
    "vels = out[\"vel\"]\n",
    "speeds = np.linalg.norm(vels,axis=2)\n",
    "kes = (0.5) * particle_mass * (speeds**2)\n",
    "ke_tot = np.sum(kes,axis=1)\n",
    "\n",
    "gpes = out[\"gpe\"]\n",
    "gpe_tot = np.sum(gpes,axis=1).flatten()/2\n",
    "\n",
    "tot = ke_tot + gpe_tot"
   ]
  },
  {
   "cell_type": "code",
   "execution_count": 5,
   "metadata": {},
   "outputs": [],
   "source": [
    "outdf.to_csv(\"n1000000nfw2.csv\")"
   ]
  },
  {
   "cell_type": "code",
   "execution_count": 6,
   "metadata": {},
   "outputs": [
    {
     "data": {
      "image/png": "[encoded data removed]",
      "text/plain": [
       "<Figure size 432x288 with 1 Axes>"
      ]
     },
     "metadata": {
      "needs_background": "light"
     },
     "output_type": "display_data"
    }
   ],
   "source": [
    "plt.plot(tot)\n",
    "plt.title(\"NFW Profile\\n\" + r\"$n=\" + str(n) + r\",dt=\" + str(dt) + r\"$\")\n",
    "plt.ticklabel_format(axis='both',useOffset=False)\n",
    "plt.xlabel(\"Timestep\")\n",
    "plt.ylabel(r\"K$E$ + GP$E$\")\n",
    "plt.tight_layout()\n",
    "plt.savefig(\"NFW_n1000000_steps20.jpg\")\n",
    "plt.show()"
   ]
  },
  {
   "cell_type": "code",
   "execution_count": null,
   "metadata": {},
   "outputs": [],
   "source": []
  },
  {
   "cell_type": "code",
   "execution_count": null,
   "metadata": {},
   "outputs": [],
   "source": []
  }
 ],
 "metadata": {
  "kernelspec": {
   "display_name": "Python 3.9.2 64-bit",
   "language": "python",
   "name": "python3"
  },
  "language_info": {
   "codemirror_mode": {
    "name": "ipython",
    "version": 3
   },
   "file_extension": ".py",
   "mimetype": "text/x-python",
   "name": "python",
   "nbconvert_exporter": "python",
   "pygments_lexer": "ipython3",
   "version": "3.9.2"
  },
  "orig_nbformat": 4,
  "vscode": {
   "interpreter": {
    "hash": "aee8b7b246df8f9039afb4144a1f6fd8d2ca17a180786b69acc140d282b71a49"
   }
  }
 },
 "nbformat": 4,
 "nbformat_minor": 2
}
