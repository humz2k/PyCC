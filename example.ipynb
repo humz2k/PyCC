{
 "cells": [
  {
   "cell_type": "markdown",
   "metadata": {},
   "source": [
    "# PyCC Example"
   ]
  },
  {
   "cell_type": "code",
   "execution_count": 86,
   "metadata": {},
   "outputs": [],
   "source": [
    "import PyCC #import PyCC\n",
    "import numpy as np #import numpy\n",
    "import matplotlib.pyplot as plt #import matplotlib"
   ]
  },
  {
   "cell_type": "markdown",
   "metadata": {},
   "source": [
    "## Configure the distribution"
   ]
  },
  {
   "cell_type": "code",
   "execution_count": 87,
   "metadata": {},
   "outputs": [],
   "source": [
    "nsteps = 100\n",
    "n = 100\n",
    "r = 100\n",
    "p = 10"
   ]
  },
  {
   "cell_type": "markdown",
   "metadata": {},
   "source": [
    "## Generate distribution"
   ]
  },
  {
   "cell_type": "code",
   "execution_count": 88,
   "metadata": {},
   "outputs": [
    {
     "name": "stdout",
     "output_type": "stream",
     "text": [
      "            x          y          z   vx   vy   vz           mass\n",
      "0   -9.778754 -14.923112  74.109360  0.0  0.0  0.0  418879.020479\n",
      "1   55.659737  50.879931  35.052029  0.0  0.0  0.0  418879.020479\n",
      "2   80.492747 -29.113723  34.894571  0.0  0.0  0.0  418879.020479\n",
      "3  -28.388502 -63.951667   0.306796  0.0  0.0  0.0  418879.020479\n",
      "4  -26.813215  13.616158  57.905765  0.0  0.0  0.0  418879.020479\n",
      "..        ...        ...        ...  ...  ...  ...            ...\n",
      "95  52.491623 -72.530927  27.507677  0.0  0.0  0.0  418879.020479\n",
      "96  61.880282  15.033717 -45.127898  0.0  0.0  0.0  418879.020479\n",
      "97  14.234263  33.188824  14.860429  0.0  0.0  0.0  418879.020479\n",
      "98 -61.283188 -22.301299   6.326132  0.0  0.0  0.0  418879.020479\n",
      "99 -29.577481  82.091014  19.388207  0.0  0.0  0.0  418879.020479\n",
      "\n",
      "[100 rows x 7 columns]\n"
     ]
    }
   ],
   "source": [
    "#generate an input\n",
    "input_df = PyCC.Distributions.Uniform(r=r,n=n,p=p)\n",
    "print(input_df)"
   ]
  },
  {
   "cell_type": "markdown",
   "metadata": {},
   "source": [
    "## Evaluate using the GPU"
   ]
  },
  {
   "cell_type": "code",
   "execution_count": 89,
   "metadata": {},
   "outputs": [
    {
     "name": "stdout",
     "output_type": "stream",
     "text": [
      "GPU stats: {'eval_time': 0.22727754200002437, 'n_batches': 1, 'batch_times': array([0.00160296])}\n",
      "       id             x             y            z            ax  \\\n",
      "0       0     -9.778754    -14.923112    74.109360 -3.026983e-08   \n",
      "1       1     55.659737     50.879931    35.052029 -1.558861e-07   \n",
      "2       2     80.492747    -29.113723    34.894571 -1.702645e-07   \n",
      "3       3    -28.388502    -63.951667     0.306796  3.997507e-08   \n",
      "4       4    -26.813215     13.616158    57.905765  4.966899e-08   \n",
      "...    ..           ...           ...          ...           ...   \n",
      "10095  95   1128.263309   1501.603355 -2878.992334 -6.628693e-11   \n",
      "10096  96   -650.236080   -428.105890   107.730967  2.354076e-09   \n",
      "10097  97 -37402.971094  30535.950289  8957.179252  8.574880e-13   \n",
      "10098  98    151.539482     44.305480   -63.270048  8.255785e-09   \n",
      "10099  99     17.068626     12.621477   110.949441 -2.245768e-08   \n",
      "\n",
      "                 ay            az        vx        vy        vz           phi  \n",
      "0     -1.755129e-08 -2.352945e-07  0.000000  0.000000  0.000000 -3.402343e-05  \n",
      "1     -7.828870e-08 -1.523058e-07  0.000000  0.000000  0.000000 -3.018485e-05  \n",
      "2      7.910288e-08 -6.839002e-08  0.000000  0.000000  0.000000 -2.584945e-05  \n",
      "3      2.343085e-07  4.501798e-08  0.000000  0.000000  0.000000 -3.151183e-05  \n",
      "4     -7.208713e-08 -1.234433e-07  0.000000  0.000000  0.000000 -3.560877e-05  \n",
      "...             ...           ...       ...       ...       ...           ...  \n",
      "10095 -8.017231e-11  1.757889e-10  0.012268  0.017696 -0.032811 -7.580599e-07  \n",
      "10096  1.881962e-09 -4.963476e-10 -0.008835 -0.005493  0.001205 -2.879586e-06  \n",
      "10097 -6.998253e-13 -2.061337e-13 -0.400134  0.326216  0.095608 -5.576285e-08  \n",
      "10098  2.460770e-08  5.662979e-08 -0.001525  0.002844 -0.002563 -1.089104e-05  \n",
      "10099  2.239163e-08  1.842667e-08  0.000558  0.001337  0.001355 -7.918932e-06  \n",
      "\n",
      "[10100 rows x 11 columns]\n"
     ]
    }
   ],
   "source": [
    "#evaluate using GPU acceleration\n",
    "out_gpu,stats_gpu = PyCC.evaluate(df=input_df,algo=\"directsum\",accelerate=True,steps=nsteps)\n",
    "print(\"GPU stats:\",stats_gpu)\n",
    "print(out_gpu)"
   ]
  },
  {
   "cell_type": "markdown",
   "metadata": {},
   "source": [
    "## Get the positions out"
   ]
  },
  {
   "cell_type": "code",
   "execution_count": 90,
   "metadata": {},
   "outputs": [
    {
     "name": "stdout",
     "output_type": "stream",
     "text": [
      "(101, 100, 3)\n"
     ]
    }
   ],
   "source": [
    "#select just the positions, and reshape to get each timestep\n",
    "position_gpu = np.reshape(out_gpu.loc[:,[\"x\",\"y\",\"z\"]].to_numpy(),(nsteps+1,n,3))\n",
    "print(position_gpu.shape)"
   ]
  },
  {
   "cell_type": "markdown",
   "metadata": {},
   "source": [
    "## Evaluate without GPU"
   ]
  },
  {
   "cell_type": "code",
   "execution_count": 91,
   "metadata": {},
   "outputs": [
    {
     "name": "stdout",
     "output_type": "stream",
     "text": [
      "NOGPU stats: {'eval_time': 0.20237908299998253}\n",
      "       id             x             y            z            ax  \\\n",
      "0       0     -9.778754    -14.923112    74.109360 -3.026983e-08   \n",
      "1       1     55.659737     50.879931    35.052029 -1.558861e-07   \n",
      "2       2     80.492747    -29.113723    34.894571 -1.702645e-07   \n",
      "3       3    -28.388502    -63.951667     0.306796  3.997509e-08   \n",
      "4       4    -26.813215     13.616158    57.905765  4.966897e-08   \n",
      "...    ..           ...           ...          ...           ...   \n",
      "10095  95   1128.272791   1501.571614 -2878.990104 -6.566989e-11   \n",
      "10096  96   -560.151362   -584.692955   262.870702  1.697657e-09   \n",
      "10097  97 -37402.418479  30534.726727  8957.332906  8.574891e-13   \n",
      "10098  98    115.218778    142.977300   -53.008553  6.731959e-08   \n",
      "10099  99      1.041473     18.435685    61.077962  4.154897e-09   \n",
      "\n",
      "                 ay            az        vx        vy        vz           phi  \n",
      "0     -1.755128e-08 -2.352945e-07  0.000000  0.000000  0.000000 -3.402342e-05  \n",
      "1     -7.828868e-08 -1.523058e-07  0.000000  0.000000  0.000000 -3.018485e-05  \n",
      "2      7.910288e-08 -6.839002e-08  0.000000  0.000000  0.000000 -2.584945e-05  \n",
      "3      2.343085e-07  4.501799e-08  0.000000  0.000000  0.000000 -3.151184e-05  \n",
      "4     -7.208714e-08 -1.234433e-07  0.000000  0.000000  0.000000 -3.560877e-05  \n",
      "...             ...           ...       ...       ...       ...           ...  \n",
      "10095 -7.914003e-11  1.742790e-10  0.012268  0.017696 -0.032811 -7.555807e-07  \n",
      "10096  1.793070e-09 -8.012881e-10 -0.007667 -0.007697  0.003353 -2.655118e-06  \n",
      "10097 -6.998664e-13 -2.061742e-13 -0.400128  0.326203  0.095609 -5.576384e-08  \n",
      "10098 -4.332330e-08  6.279201e-08  0.000533  0.001375 -0.001835 -9.283576e-06  \n",
      "10099  7.334130e-10 -9.769472e-09  0.000425  0.000915  0.000246 -7.246461e-06  \n",
      "\n",
      "[10100 rows x 11 columns]\n"
     ]
    }
   ],
   "source": [
    "#evaluate without GPU acceleration\n",
    "out_nogpu,stats_nogpu = PyCC.evaluate(df=input_df,algo=\"directsum\",accelerate=False,steps=nsteps)\n",
    "print(\"NOGPU stats:\",stats_nogpu)\n",
    "print(out_nogpu)"
   ]
  },
  {
   "cell_type": "markdown",
   "metadata": {},
   "source": [
    "## Get positions out"
   ]
  },
  {
   "cell_type": "code",
   "execution_count": 92,
   "metadata": {},
   "outputs": [
    {
     "name": "stdout",
     "output_type": "stream",
     "text": [
      "(101, 100, 3)\n"
     ]
    }
   ],
   "source": [
    "#select just positions\n",
    "position_nogpu = np.reshape(out_nogpu.loc[:,[\"x\",\"y\",\"z\"]].to_numpy(),(nsteps+1,n,3))\n",
    "print(position_nogpu.shape)"
   ]
  },
  {
   "cell_type": "markdown",
   "metadata": {},
   "source": [
    "## Compare the two outputs"
   ]
  },
  {
   "cell_type": "code",
   "execution_count": 93,
   "metadata": {},
   "outputs": [
    {
     "name": "stdout",
     "output_type": "stream",
     "text": [
      "(101,)\n"
     ]
    }
   ],
   "source": [
    "#compare the difference between the two\n",
    "diff = np.mean(np.mean(np.abs(position_gpu - position_nogpu),axis=2),axis=1)\n",
    "print(diff.shape)"
   ]
  },
  {
   "cell_type": "markdown",
   "metadata": {},
   "source": [
    "## Plot this"
   ]
  },
  {
   "cell_type": "code",
   "execution_count": 96,
   "metadata": {},
   "outputs": [
    {
     "data": {
      "image/png": "[encoded data removed]",
      "text/plain": [
       "<Figure size 432x288 with 1 Axes>"
      ]
     },
     "metadata": {
      "needs_background": "light"
     },
     "output_type": "display_data"
    }
   ],
   "source": [
    "#plot this difference over time\n",
    "plt.plot(diff)\n",
    "plt.ylabel(\"Diff\")\n",
    "plt.xlabel(\"Time steps\")\n",
    "plt.yscale('log')\n",
    "plt.show()"
   ]
  },
  {
   "cell_type": "markdown",
   "metadata": {},
   "source": [
    "## We can plot the max particle distance from center over time."
   ]
  },
  {
   "cell_type": "code",
   "execution_count": 98,
   "metadata": {},
   "outputs": [
    {
     "data": {
      "image/png": "[encoded data removed]",
      "text/plain": [
       "<Figure size 432x288 with 1 Axes>"
      ]
     },
     "metadata": {
      "needs_background": "light"
     },
     "output_type": "display_data"
    }
   ],
   "source": [
    "max_pos_gpu = np.max(np.linalg.norm(position_gpu,axis=2),axis=1)\n",
    "plt.plot(max_pos_gpu**3)\n",
    "plt.show()"
   ]
  },
  {
   "cell_type": "markdown",
   "metadata": {},
   "source": [
    "## At around some point, a particle gets ejected. GPU does float32 calculations while no GPU does float64. So the floating point error goes up."
   ]
  }
 ],
 "metadata": {
  "kernelspec": {
   "display_name": "Python 3.9.2 64-bit",
   "language": "python",
   "name": "python3"
  },
  "language_info": {
   "codemirror_mode": {
    "name": "ipython",
    "version": 3
   },
   "file_extension": ".py",
   "mimetype": "text/x-python",
   "name": "python",
   "nbconvert_exporter": "python",
   "pygments_lexer": "ipython3",
   "version": "3.9.2"
  },
  "orig_nbformat": 4,
  "vscode": {
   "interpreter": {
    "hash": "aee8b7b246df8f9039afb4144a1f6fd8d2ca17a180786b69acc140d282b71a49"
   }
  }
 },
 "nbformat": 4,
 "nbformat_minor": 2
}
